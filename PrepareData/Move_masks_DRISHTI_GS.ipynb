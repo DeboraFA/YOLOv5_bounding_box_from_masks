{
 "cells": [
  {
   "cell_type": "code",
   "execution_count": null,
   "id": "a8885b8b",
   "metadata": {},
   "outputs": [],
   "source": [
    "import os\n",
    "import cv2\n",
    "import glob\n",
    "import numpy as np\n",
    "import pandas as pd\n",
    "import matplotlib.pyplot as plt\n",
    "from PIL import Image\n",
    "import shutil\n"
   ]
  },
  {
   "cell_type": "code",
   "execution_count": null,
   "id": "95b87225",
   "metadata": {},
   "outputs": [],
   "source": []
  },
  {
   "cell_type": "code",
   "execution_count": null,
   "id": "16333805",
   "metadata": {},
   "outputs": [],
   "source": [
    "# train masks\n",
    "path = 'D:/Glaucoma/Banco_de_dados/DRISHTI_GS/Drishti-GS1_files/Training/Training/GT'\n",
    "labels_ = os.listdir(path)\n",
    "# labels_\n",
    "\n",
    "output_disc = 'D:/Glaucoma/Banco_de_dados/DRISHTI_GS/Drishti-GS1_files/Training/Training/masks_disc'\n",
    "output_cup = 'D:/Glaucoma/Banco_de_dados/DRISHTI_GS/Drishti-GS1_files/Training/Training/masks_cup'\n",
    "\n",
    "if not os.path.exists(output_disc):\n",
    "    os.makedirs(output_disc)\n",
    "if not os.path.exists(output_cup):\n",
    "    os.makedirs(output_cup)\n",
    "\n",
    "for j, label in enumerate(labels_): # when folders are separated into glaucoma and normal\n",
    "    cur_path = path + \"/\" + label + \"/\" + \"SoftMap/\"\n",
    "    print(cur_path)\n",
    "    \n",
    "    for image_path in glob.glob(cur_path + \"/*\"): \n",
    "        file = image_path.split(\"\\\\\")[-1][:-4]\n",
    "        print(file)\n",
    "#         folder = cur_path + file\n",
    "        if file[-13:] == 'cupsegSoftmap':\n",
    "            shutil.move(image_path, os.path.join(output_cup, image_path.split(\"\\\\\")[-1]))\n",
    "        elif file[-13:] == '_ODsegSoftmap':\n",
    "            shutil.move(image_path, os.path.join(output_disc, image_path.split(\"\\\\\")[-1]))\n",
    "        "
   ]
  },
  {
   "cell_type": "code",
   "execution_count": null,
   "id": "fe4e363f",
   "metadata": {},
   "outputs": [],
   "source": [
    "# test masks\n",
    "path = 'D:/Glaucoma/Banco_de_dados/DRISHTI_GS/Drishti-GS1_files/Test/Test_GT'\n",
    "labels_ = os.listdir(path)\n",
    "# labels_\n",
    "\n",
    "output_disc = 'D:/Glaucoma/Banco_de_dados/DRISHTI_GS/Drishti-GS1_files/Test/masks_disc'\n",
    "output_cup = 'D:/Glaucoma/Banco_de_dados/DRISHTI_GS/Drishti-GS1_files/Test/masks_cup'\n",
    "\n",
    "if not os.path.exists(output_disc):\n",
    "    os.makedirs(output_disc)\n",
    "if not os.path.exists(output_cup):\n",
    "    os.makedirs(output_cup)\n",
    "\n",
    "for j, label in enumerate(labels_): # when folders are separated into glaucoma and normal\n",
    "    cur_path = path + \"/\" + label + \"/\" + \"SoftMap/\"\n",
    "    print(cur_path)\n",
    "    \n",
    "    for image_path in glob.glob(cur_path + \"/*\"): \n",
    "        file = image_path.split(\"\\\\\")[-1][:-4]\n",
    "        print(file)\n",
    "#         folder = cur_path + file\n",
    "        if file[-13:] == 'cupsegSoftmap':\n",
    "            shutil.move(image_path, os.path.join(output_cup, image_path.split(\"\\\\\")[-1]))\n",
    "        elif file[-13:] == '_ODsegSoftmap':\n",
    "            shutil.move(image_path, os.path.join(output_disc, image_path.split(\"\\\\\")[-1]))\n",
    "        "
   ]
  },
  {
   "cell_type": "code",
   "execution_count": null,
   "id": "10d1d9ab",
   "metadata": {},
   "outputs": [],
   "source": []
  },
  {
   "cell_type": "code",
   "execution_count": null,
   "id": "2b8cfe5a",
   "metadata": {},
   "outputs": [],
   "source": [
    "# Escoher aleatoriamente os dados de teste\n",
    "# image_path = 'C:/Users/debora.assis/Documents/YOLOv5_bounding_box_from_masks/PrepareData/train'\n",
    "# qtd = []\n",
    "# for image_ in glob.glob(image_path + \"/*.txt\"): \n",
    "#     file = image_.split(\"\\\\\")[-1]\n",
    "#     qtd.append(file)\n",
    "# print(len(qtd))\n",
    "# import random\n",
    "# tamanho_selecao = int(len(qtd) * (15 / 100))\n",
    "\n",
    "# # Escolher aleatoriamente 15% dos nomes\n",
    "# nomes_selecionados = random.sample(qtd, tamanho_selecao)\n",
    "\n",
    "# output_disc = 'C:/Users/debora.assis/Documents/YOLOv5_bounding_box_from_masks/PrepareData/test'\n",
    "# for i in nomes_selecionados:\n",
    "#     print(i)\n",
    "#     shutil.move(image_path + '/' + i, os.path.join(output_disc, i))\n",
    "#     shutil.move(image_path + '/' + i[:-4] + '.jpg', os.path.join(output_disc, i[:-4] + '.jpg'))"
   ]
  },
  {
   "cell_type": "code",
   "execution_count": null,
   "id": "86240484",
   "metadata": {},
   "outputs": [],
   "source": []
  },
  {
   "cell_type": "code",
   "execution_count": null,
   "id": "48068c07",
   "metadata": {},
   "outputs": [],
   "source": [
    "# Renomear máscara para ter o mesmo nome da imagem\n",
    "image_path = 'C:/Users/debora.assis/Documents/YOLOv5_bounding_box_from_masks/PrepareData/train/'\n",
    "qtd = []\n",
    "for image_ in glob.glob(image_path + \"/*\"): \n",
    "    file = image_.split(\"\\\\\")[-1]\n",
    "#     print(file[:-4])\n",
    "#     \n",
    "    if len(file) >=14:\n",
    "#         print(len(file))\n",
    "        if file[-14:] == '_disc_exp1.txt':\n",
    "            print(file)\n",
    "            os.rename(image_path + file, image_path+file[:-14])\n",
    "    else: \n",
    "        continue"
   ]
  },
  {
   "cell_type": "code",
   "execution_count": null,
   "id": "8c897872",
   "metadata": {},
   "outputs": [],
   "source": [
    "image_path = 'C:/Users/debora.assis/Documents/YOLOv5_bounding_box_from_masks/PrepareData/train/'\n",
    "qtd = []\n",
    "for image_ in glob.glob(image_path + \"/*\"): \n",
    "    file = image_.split(\"\\\\\")[-1]\n",
    "    if file[:3] == 'RET' and file[-4:] != '.jpg':\n",
    "        print(file)\n",
    "        os.rename(image_path + file, image_path+file+'.txt')"
   ]
  }
 ],
 "metadata": {
  "kernelspec": {
   "display_name": "Python 3",
   "language": "python",
   "name": "python3"
  },
  "language_info": {
   "codemirror_mode": {
    "name": "ipython",
    "version": 3
   },
   "file_extension": ".py",
   "mimetype": "text/x-python",
   "name": "python",
   "nbconvert_exporter": "python",
   "pygments_lexer": "ipython3",
   "version": "3.8.8"
  }
 },
 "nbformat": 4,
 "nbformat_minor": 5
}
